{
 "cells": [
  {
   "cell_type": "code",
   "execution_count": 1,
   "id": "88dff9ed",
   "metadata": {},
   "outputs": [
    {
     "name": "stderr",
     "output_type": "stream",
     "text": [
      "2022-09-16 09:22:24.029701: I tensorflow/core/platform/cpu_feature_guard.cc:193] This TensorFlow binary is optimized with oneAPI Deep Neural Network Library (oneDNN) to use the following CPU instructions in performance-critical operations:  AVX2 AVX512F AVX512_VNNI FMA\n",
      "To enable them in other operations, rebuild TensorFlow with the appropriate compiler flags.\n"
     ]
    }
   ],
   "source": [
    "import numpy as np\n",
    "import tensorflow as tf\n",
    "import tensorflow_probability as tfp\n",
    "\n",
    "import networkx as nx\n",
    "import matplotlib.pyplot as plt\n",
    "import tensorly\n"
   ]
  },
  {
   "cell_type": "code",
   "execution_count": 2,
   "id": "b91a3649",
   "metadata": {},
   "outputs": [],
   "source": [
    "%run -i simulator.py"
   ]
  },
  {
   "cell_type": "code",
   "execution_count": 3,
   "id": "b616bae6",
   "metadata": {},
   "outputs": [
    {
     "name": "stderr",
     "output_type": "stream",
     "text": [
      "2022-09-16 09:22:36.569129: I tensorflow/core/platform/cpu_feature_guard.cc:193] This TensorFlow binary is optimized with oneAPI Deep Neural Network Library (oneDNN) to use the following CPU instructions in performance-critical operations:  AVX2 AVX512F AVX512_VNNI FMA\n",
      "To enable them in other operations, rebuild TensorFlow with the appropriate compiler flags.\n"
     ]
    },
    {
     "data": {
      "text/plain": [
       "<tf.Tensor: shape=(2, 2), dtype=float32, numpy=\n",
       "array([[0.5000488 , 0.02227278],\n",
       "       [0.02227278, 0.77789843]], dtype=float32)>"
      ]
     },
     "execution_count": 3,
     "metadata": {},
     "output_type": "execute_result"
    }
   ],
   "source": [
    "Ncommunities = 2\n",
    "\n",
    "B = tfp.distributions.Beta(1/10, 1/2).sample((Ncommunities,Ncommunities))\n",
    "B = tf.experimental.numpy.triu(B + 0.5*tf.eye(Ncommunities))\n",
    "B = B + tf.transpose(tf.experimental.numpy.triu(B, k = 1))\n",
    "B"
   ]
  },
  {
   "cell_type": "code",
   "execution_count": 4,
   "id": "e383542f",
   "metadata": {},
   "outputs": [
    {
     "data": {
      "text/plain": [
       "<tf.Tensor: shape=(2,), dtype=float64, numpy=array([0.3851048, 0.6148952])>"
      ]
     },
     "execution_count": 4,
     "metadata": {},
     "output_type": "execute_result"
    }
   ],
   "source": [
    "initial_distribution = tfp.distributions.Dirichlet(np.abs(np.random.normal(5, 0.1, Ncommunities))).sample()\n",
    "initial_distribution"
   ]
  },
  {
   "cell_type": "code",
   "execution_count": 5,
   "id": "7681e683",
   "metadata": {},
   "outputs": [],
   "source": [
    "N = 100\n",
    "\n",
    "simulator = stochasticBlockModel(B)\n",
    "E         = simulator.pop_sample(initial_distribution, N)\n",
    "\n",
    "A = simulator.sample(E)"
   ]
  },
  {
   "cell_type": "code",
   "execution_count": 6,
   "id": "3129dcb1",
   "metadata": {},
   "outputs": [],
   "source": [
    "def d_spectral_tensorly(A, d):\n",
    "\n",
    "    eigenvectors, eigenvalues, _ = tensorly.partial_svd(A.numpy(), n_eigenvecs=d)\n",
    "\n",
    "    eigenvalues_sort    = tf.sort(   eigenvalues, direction='DESCENDING')\n",
    "    eigenvalues_argsort = tf.argsort(eigenvalues, direction='DESCENDING')\n",
    "    eigenvectors_sort   = tf.gather(eigenvectors, eigenvalues_argsort, axis = 1)\n",
    "\n",
    "    q = sum(eigenvalues_sort.numpy()<0)\n",
    "    p = eigenvalues_sort.shape[0] - q\n",
    "\n",
    "    return p, q, tf.einsum(\"ni,i->ni\", tf.cast(eigenvectors_sort, dtype = tf.float32), tf.cast(tf.sqrt(tf.abs(eigenvalues_sort)), dtype = tf.float32))"
   ]
  },
  {
   "cell_type": "code",
   "execution_count": 7,
   "id": "2f876c38",
   "metadata": {},
   "outputs": [
    {
     "name": "stdout",
     "output_type": "stream",
     "text": [
      "the max norm of the difference between M and hatM is 0.44603348\n"
     ]
    }
   ],
   "source": [
    "d = 2\n",
    "p, q, hatX = d_spectral_tensorly(A, d)\n",
    "\n",
    "newsimulator = GRDPG(p, q, N)\n",
    "\n",
    "hatXminus = hatX*tf.reshape(newsimulator.I, (1, newsimulator.p+newsimulator.q))\n",
    "\n",
    "hatM = tf.einsum(\"ik,jk->ij\", hatXminus, hatX)\n",
    "\n",
    "M = tf.einsum(\"nj,kj->nk\", tf.einsum(\"nk,kj->nj\", E, B), E)\n",
    "print(\"the max norm of the difference between M and hatM is \"+str(tf.reduce_max(tf.abs(M-hatM)).numpy()))"
   ]
  },
  {
   "cell_type": "code",
   "execution_count": 12,
   "id": "bff798eb",
   "metadata": {},
   "outputs": [
    {
     "ename": "SyntaxError",
     "evalue": "'break' outside loop (4054274593.py, line 14)",
     "output_type": "error",
     "traceback": [
      "\u001b[0;36m  File \u001b[0;32m\"/var/folders/ft/z4dxrpzn299g3lr360t0qc380000gn/T/ipykernel_7992/4054274593.py\"\u001b[0;36m, line \u001b[0;32m14\u001b[0m\n\u001b[0;31m    break\u001b[0m\n\u001b[0m    ^\u001b[0m\n\u001b[0;31mSyntaxError\u001b[0m\u001b[0;31m:\u001b[0m 'break' outside loop\n"
     ]
    }
   ],
   "source": [
    "def likelihood_evalutation(A, hatM):    \n",
    "    # extract lower triangular matrix from A, M\n",
    "    Lower = tf.linalg.band_part(tf.ones([N, N]), -1, 0) -  tf.linalg.band_part(tf.ones([N, N]), 0, 0)\n",
    "    LowerA = tf.boolean_mask(A, Lower)\n",
    "    LowerHatM = tf.boolean_mask(hatM, Lower)\n",
    "    # select 0 entries of A\n",
    "    maskA = (LowerA == tf.zeros_like(LowerA))\n",
    "    # check if M has 0 or 1 entries\n",
    "    maskM0 = (LowerHatM == tf.zeros_like(LowerHatM))\n",
    "    maskM1 = (LowerHatM == tf.ones_like(LowerHatM))\n",
    "    if (tf.math.reduce_any(maskM0 & ~maskA) | tf.math.reduce_any(maskM1 & maskA)):\n",
    "        reject = True\n",
    "        log_likelihood = 0\n",
    "        break\n",
    "    else:\n",
    "        reject = False\n",
    "        edges = tf.concat([tf.math.log(1-tf.boolean_mask(LowerHatM, maskA &(~maskM1))), \n",
    "                            tf.math.log(tf.boolean_mask(LowerHatM, ~maskA))], -1)\n",
    "        log_likelihood = tf.reduce_sum(edges).numpy()"
   ]
  },
  {
   "cell_type": "code",
   "execution_count": 11,
   "id": "fb65c053",
   "metadata": {},
   "outputs": [
    {
     "data": {
      "text/plain": [
       "-1691.7991"
      ]
     },
     "execution_count": 11,
     "metadata": {},
     "output_type": "execute_result"
    }
   ],
   "source": [
    "reject\n",
    "log_likelihood"
   ]
  },
  {
   "cell_type": "code",
   "execution_count": null,
   "id": "9030c0d1",
   "metadata": {},
   "outputs": [],
   "source": []
  }
 ],
 "metadata": {
  "kernelspec": {
   "display_name": "Python 3 (ipykernel)",
   "language": "python",
   "name": "python3"
  },
  "language_info": {
   "codemirror_mode": {
    "name": "ipython",
    "version": 3
   },
   "file_extension": ".py",
   "mimetype": "text/x-python",
   "name": "python",
   "nbconvert_exporter": "python",
   "pygments_lexer": "ipython3",
   "version": "3.9.7"
  }
 },
 "nbformat": 4,
 "nbformat_minor": 5
}
